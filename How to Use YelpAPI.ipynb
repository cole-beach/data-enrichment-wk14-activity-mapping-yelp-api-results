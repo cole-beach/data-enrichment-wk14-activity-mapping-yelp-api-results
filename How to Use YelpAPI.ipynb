{
 "cells": [
  {
   "cell_type": "code",
   "execution_count": 2,
   "id": "ac1c7251",
   "metadata": {},
   "outputs": [
    {
     "data": {
      "text/plain": [
       "dict_keys(['client-id', 'api-key'])"
      ]
     },
     "execution_count": 2,
     "metadata": {},
     "output_type": "execute_result"
    }
   ],
   "source": [
    "import json\n",
    "with open(r'C:\\Users\\nbeac\\.secret\\yelp_api.json') as f:\n",
    "    login = json.load(f)\n",
    "login.keys()"
   ]
  },
  {
   "cell_type": "code",
   "execution_count": 4,
   "id": "7d928250",
   "metadata": {},
   "outputs": [
    {
     "data": {
      "text/plain": [
       "<yelpapi.yelpapi.YelpAPI at 0x19dc81004f0>"
      ]
     },
     "execution_count": 4,
     "metadata": {},
     "output_type": "execute_result"
    }
   ],
   "source": [
    "# import the YelpAPI Class\n",
    "from yelpapi import YelpAPI\n",
    "\n",
    "# Create an instance with your key\n",
    "yelp_api = YelpAPI(login['api-key'], timeout_s=5.0)\n",
    "yelp_api"
   ]
  },
  {
   "cell_type": "code",
   "execution_count": 5,
   "id": "76cd2da5",
   "metadata": {},
   "outputs": [
    {
     "name": "stdout",
     "output_type": "stream",
     "text": [
      "Help on method search_query in module yelpapi.yelpapi:\n",
      "\n",
      "search_query(**kwargs) method of yelpapi.yelpapi.YelpAPI instance\n",
      "    Query the Yelp Search API.\n",
      "    \n",
      "    documentation: https://www.yelp.com/developers/documentation/v3/business_search\n",
      "    \n",
      "    required parameters:\n",
      "        * one of either:\n",
      "            * location - text specifying a location to search for\n",
      "            * latitude and longitude\n",
      "\n"
     ]
    }
   ],
   "source": [
    "help(yelp_api.search_query)"
   ]
  },
  {
   "cell_type": "code",
   "execution_count": 6,
   "id": "21ce389e",
   "metadata": {},
   "outputs": [
    {
     "name": "stdout",
     "output_type": "stream",
     "text": [
      "<class 'dict'>\n"
     ]
    },
    {
     "data": {
      "text/plain": [
       "dict_keys(['businesses', 'total', 'region'])"
      ]
     },
     "execution_count": 6,
     "metadata": {},
     "output_type": "execute_result"
    }
   ],
   "source": [
    "# use our yelp_api variable's search_query method to perform our API call\n",
    "search_results = yelp_api.search_query(location='Baltimore, MD,21202',\n",
    "                                       term='Crab Cakes')\n",
    "print(type(search_results))\n",
    "search_results.keys()"
   ]
  },
  {
   "cell_type": "code",
   "execution_count": 7,
   "id": "746abc08",
   "metadata": {},
   "outputs": [
    {
     "data": {
      "text/plain": [
       "437"
      ]
     },
     "execution_count": 7,
     "metadata": {},
     "output_type": "execute_result"
    }
   ],
   "source": [
    "search_results['total']"
   ]
  },
  {
   "cell_type": "code",
   "execution_count": 9,
   "id": "b4001579",
   "metadata": {},
   "outputs": [
    {
     "data": {
      "text/html": [
       "<div>\n",
       "<style scoped>\n",
       "    .dataframe tbody tr th:only-of-type {\n",
       "        vertical-align: middle;\n",
       "    }\n",
       "\n",
       "    .dataframe tbody tr th {\n",
       "        vertical-align: top;\n",
       "    }\n",
       "\n",
       "    .dataframe thead th {\n",
       "        text-align: right;\n",
       "    }\n",
       "</style>\n",
       "<table border=\"1\" class=\"dataframe\">\n",
       "  <thead>\n",
       "    <tr style=\"text-align: right;\">\n",
       "      <th></th>\n",
       "      <th>id</th>\n",
       "      <th>alias</th>\n",
       "      <th>name</th>\n",
       "      <th>image_url</th>\n",
       "      <th>is_closed</th>\n",
       "      <th>url</th>\n",
       "      <th>review_count</th>\n",
       "      <th>categories</th>\n",
       "      <th>rating</th>\n",
       "      <th>coordinates</th>\n",
       "      <th>transactions</th>\n",
       "      <th>price</th>\n",
       "      <th>location</th>\n",
       "      <th>phone</th>\n",
       "      <th>display_phone</th>\n",
       "      <th>distance</th>\n",
       "    </tr>\n",
       "  </thead>\n",
       "  <tbody>\n",
       "    <tr>\n",
       "      <th>0</th>\n",
       "      <td>ieS_5zqxDHcWMCm8BKUYbg</td>\n",
       "      <td>thames-street-oyster-house-baltimore</td>\n",
       "      <td>Thames Street Oyster House</td>\n",
       "      <td>https://s3-media1.fl.yelpcdn.com/bphoto/9hGjo5...</td>\n",
       "      <td>False</td>\n",
       "      <td>https://www.yelp.com/biz/thames-street-oyster-...</td>\n",
       "      <td>2818</td>\n",
       "      <td>[{'alias': 'seafood', 'title': 'Seafood'}, {'a...</td>\n",
       "      <td>4.5</td>\n",
       "      <td>{'latitude': 39.28214, 'longitude': -76.59162}</td>\n",
       "      <td>[delivery]</td>\n",
       "      <td>$$$</td>\n",
       "      <td>{'address1': '1728 Thames St', 'address2': '',...</td>\n",
       "      <td>+14434497726</td>\n",
       "      <td>(443) 449-7726</td>\n",
       "      <td>2090.712792</td>\n",
       "    </tr>\n",
       "    <tr>\n",
       "      <th>1</th>\n",
       "      <td>D9A33FM394q99o4QtK5YwA</td>\n",
       "      <td>faidleys-seafood-baltimore-3</td>\n",
       "      <td>Faidley's Seafood</td>\n",
       "      <td>https://s3-media3.fl.yelpcdn.com/bphoto/8j3ynZ...</td>\n",
       "      <td>False</td>\n",
       "      <td>https://www.yelp.com/biz/faidleys-seafood-balt...</td>\n",
       "      <td>1217</td>\n",
       "      <td>[{'alias': 'seafood', 'title': 'Seafood'}, {'a...</td>\n",
       "      <td>4.0</td>\n",
       "      <td>{'latitude': 39.291696, 'longitude': -76.62224}</td>\n",
       "      <td>[delivery]</td>\n",
       "      <td>$$</td>\n",
       "      <td>{'address1': '203 N Paca St', 'address2': '', ...</td>\n",
       "      <td>+14107274898</td>\n",
       "      <td>(410) 727-4898</td>\n",
       "      <td>1349.560720</td>\n",
       "    </tr>\n",
       "  </tbody>\n",
       "</table>\n",
       "</div>"
      ],
      "text/plain": [
       "                       id                                 alias  \\\n",
       "0  ieS_5zqxDHcWMCm8BKUYbg  thames-street-oyster-house-baltimore   \n",
       "1  D9A33FM394q99o4QtK5YwA          faidleys-seafood-baltimore-3   \n",
       "\n",
       "                         name  \\\n",
       "0  Thames Street Oyster House   \n",
       "1           Faidley's Seafood   \n",
       "\n",
       "                                           image_url  is_closed  \\\n",
       "0  https://s3-media1.fl.yelpcdn.com/bphoto/9hGjo5...      False   \n",
       "1  https://s3-media3.fl.yelpcdn.com/bphoto/8j3ynZ...      False   \n",
       "\n",
       "                                                 url  review_count  \\\n",
       "0  https://www.yelp.com/biz/thames-street-oyster-...          2818   \n",
       "1  https://www.yelp.com/biz/faidleys-seafood-balt...          1217   \n",
       "\n",
       "                                          categories  rating  \\\n",
       "0  [{'alias': 'seafood', 'title': 'Seafood'}, {'a...     4.5   \n",
       "1  [{'alias': 'seafood', 'title': 'Seafood'}, {'a...     4.0   \n",
       "\n",
       "                                       coordinates transactions price  \\\n",
       "0   {'latitude': 39.28214, 'longitude': -76.59162}   [delivery]   $$$   \n",
       "1  {'latitude': 39.291696, 'longitude': -76.62224}   [delivery]    $$   \n",
       "\n",
       "                                            location         phone  \\\n",
       "0  {'address1': '1728 Thames St', 'address2': '',...  +14434497726   \n",
       "1  {'address1': '203 N Paca St', 'address2': '', ...  +14107274898   \n",
       "\n",
       "    display_phone     distance  \n",
       "0  (443) 449-7726  2090.712792  \n",
       "1  (410) 727-4898  1349.560720  "
      ]
     },
     "execution_count": 9,
     "metadata": {},
     "output_type": "execute_result"
    }
   ],
   "source": [
    "import pandas as pd\n",
    "biz = pd.DataFrame(search_results['businesses'])\n",
    "biz.head(2)"
   ]
  },
  {
   "cell_type": "code",
   "execution_count": 12,
   "id": "b951a1b3",
   "metadata": {},
   "outputs": [
    {
     "data": {
      "text/plain": [
       "20"
      ]
     },
     "execution_count": 12,
     "metadata": {},
     "output_type": "execute_result"
    }
   ],
   "source": [
    "len(search_results['businesses'])"
   ]
  },
  {
   "cell_type": "code",
   "execution_count": 13,
   "id": "a8a92352",
   "metadata": {},
   "outputs": [],
   "source": [
    "# add offset to our original api call\n",
    "search_results = yelp_api.search_query(location='Baltimore, MD,21202',\n",
    "                                       term='Crab Cakes',\n",
    "                                       offset = 20)"
   ]
  }
 ],
 "metadata": {
  "kernelspec": {
   "display_name": "Python (dojo-env)",
   "language": "python",
   "name": "dojo-env"
  },
  "language_info": {
   "codemirror_mode": {
    "name": "ipython",
    "version": 3
   },
   "file_extension": ".py",
   "mimetype": "text/x-python",
   "name": "python",
   "nbconvert_exporter": "python",
   "pygments_lexer": "ipython3",
   "version": "3.8.13"
  },
  "toc": {
   "base_numbering": 1,
   "nav_menu": {},
   "number_sections": false,
   "sideBar": true,
   "skip_h1_title": false,
   "title_cell": "Table of Contents",
   "title_sidebar": "Contents",
   "toc_cell": false,
   "toc_position": {},
   "toc_section_display": true,
   "toc_window_display": false
  }
 },
 "nbformat": 4,
 "nbformat_minor": 5
}
